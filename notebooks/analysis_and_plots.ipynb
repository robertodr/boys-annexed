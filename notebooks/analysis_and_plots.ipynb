{
 "cells": [
  {
   "cell_type": "code",
   "execution_count": 1,
   "id": "f7b9d89d-9360-46a8-8850-7d05d83d92e6",
   "metadata": {},
   "outputs": [],
   "source": [
    "import plotly.graph_objects as go\n",
    "import h5py\n",
    "import numpy as np"
   ]
  },
  {
   "cell_type": "code",
   "execution_count": 2,
   "id": "4c654730-60c9-4ae3-a1bc-2bfb0c609a37",
   "metadata": {},
   "outputs": [],
   "source": [
    "# max order computed\n",
    "max_order = 32\n",
    "\n",
    "# open file with reference data\n",
    "ref_fh = h5py.File(\"../data/boys_reference.h5\", \"r\")\n",
    "\n",
    "# open file with computed data\n",
    "comp_fh = h5py.File(\"../data/boys_computed.h5\", \"r\")"
   ]
  },
  {
   "cell_type": "code",
   "execution_count": 92,
   "id": "b27fd8a4-13b0-453e-9de2-5f0e5a136589",
   "metadata": {},
   "outputs": [],
   "source": [
    "# initialize empty figure\n",
    "fig = go.Figure()"
   ]
  },
  {
   "cell_type": "code",
   "execution_count": 93,
   "id": "3a8f0c60-2f25-4f84-b7fd-0d2b6f6a18c5",
   "metadata": {},
   "outputs": [],
   "source": [
    "for order in range(max_order):  # excluding order = 32 for the moment\n",
    "    # indices in xs realizing the maximum absolute delta for each region/order\n",
    "    xs = []\n",
    "    deltas = []\n",
    "    for region in (\"lo\", \"mid\", \"hi\"):\n",
    "        # compute difference\n",
    "        abs_diff_ys = np.abs(ref_fh[f\"{region}_interval/ys/order_{order}\"][:] - comp_fh[f\"{region}_interval/mcmurchie_davidson/cpu/ys/order_{order}\"][:])\n",
    "        # find index realizing the maximum absolute difference\n",
    "        idx = np.argmax(abs_diff_ys)\n",
    "        #print(f\"{region=} {idx=}\")\n",
    "        # save maximum absolute difference\n",
    "        deltas.append(abs_diff_ys[idx])\n",
    "        # save corresponding x value from reference\n",
    "        xs.append(ref_fh[f\"{region}_interval/xs\"][:][idx])\n",
    "    # add line to plot\n",
    "    fig.add_trace(\n",
    "        go.Scatter(\n",
    "            x=xs,\n",
    "            y=deltas, \n",
    "            mode=\"markers\", \n",
    "            name=f\"{order}\",\n",
    "            hovertemplate=r\"x = %{x}<br>max(|Delta|) = %{y}<extra></extra>\",\n",
    "        )\n",
    "    )"
   ]
  },
  {
   "cell_type": "code",
   "execution_count": 94,
   "id": "5a3db3c8-0622-4934-a50f-57f3ddacef2e",
   "metadata": {},
   "outputs": [
    {
     "data": {
      "application/vnd.plotly.v1+json": {
       "config": {
        "plotlyServerURL": "https://plot.ly"
       },
       "data": [
        {
         "hovertemplate": "x = %{x}<br>max(|Delta|) = %{y}<extra></extra>",
         "mode": "markers",
         "name": "0",
         "type": "scatter",
         "x": [
          0.2438,
          11.708,
          13.51092
         ],
         "y": [
          3.3306690738754696e-16,
          1.1102230246251565e-16,
          5.551115123125783e-17
         ]
        },
        {
         "hovertemplate": "x = %{x}<br>max(|Delta|) = %{y}<extra></extra>",
         "mode": "markers",
         "name": "1",
         "type": "scatter",
         "x": [
          0.67735,
          11.71,
          13.501365
         ],
         "y": [
          8.326672684688674e-17,
          6.938893903907228e-18,
          3.469446951953614e-18
         ]
        },
        {
         "hovertemplate": "x = %{x}<br>max(|Delta|) = %{y}<extra></extra>",
         "mode": "markers",
         "name": "2",
         "type": "scatter",
         "x": [
          0.00115,
          11.596,
          13.501365
         ],
         "y": [
          5.551115123125783e-17,
          8.673617379884035e-19,
          4.336808689942018e-19
         ]
        },
        {
         "hovertemplate": "x = %{x}<br>max(|Delta|) = %{y}<extra></extra>",
         "mode": "markers",
         "name": "3",
         "type": "scatter",
         "x": [
          0.00115,
          11.55,
          13.6365
         ],
         "y": [
          2.7755575615628914e-17,
          1.6263032587282567e-19,
          1.0842021724855044e-19
         ]
        },
        {
         "hovertemplate": "x = %{x}<br>max(|Delta|) = %{y}<extra></extra>",
         "mode": "markers",
         "name": "4",
         "type": "scatter",
         "x": [
          0.05405,
          11.582,
          13.65561
         ],
         "y": [
          2.7755575615628914e-17,
          5.421010862427522e-20,
          3.3881317890172014e-20
         ]
        },
        {
         "hovertemplate": "x = %{x}<br>max(|Delta|) = %{y}<extra></extra>",
         "mode": "markers",
         "name": "5",
         "type": "scatter",
         "x": [
          0.019549999999999998,
          12.124,
          13.65561
         ],
         "y": [
          2.7755575615628914e-17,
          2.371692252312041e-20,
          1.1858461261560205e-20
         ]
        },
        {
         "hovertemplate": "x = %{x}<br>max(|Delta|) = %{y}<extra></extra>",
         "mode": "markers",
         "name": "6",
         "type": "scatter",
         "x": [
          0.00115,
          12.174,
          13.65561
         ],
         "y": [
          1.3877787807814457e-17,
          1.1858461261560205e-20,
          5.929230630780102e-21
         ]
        },
        {
         "hovertemplate": "x = %{x}<br>max(|Delta|) = %{y}<extra></extra>",
         "mode": "markers",
         "name": "7",
         "type": "scatter",
         "x": [
          0.0023,
          12.124,
          13.65561
         ],
         "y": [
          1.3877787807814457e-17,
          6.776263578034403e-21,
          2.964615315390051e-21
         ]
        },
        {
         "hovertemplate": "x = %{x}<br>max(|Delta|) = %{y}<extra></extra>",
         "mode": "markers",
         "name": "8",
         "type": "scatter",
         "x": [
          0.0253,
          12.124,
          13.65561
         ],
         "y": [
          1.3877787807814457e-17,
          5.082197683525802e-21,
          1.9058241313221758e-21
         ]
        },
        {
         "hovertemplate": "x = %{x}<br>max(|Delta|) = %{y}<extra></extra>",
         "mode": "markers",
         "name": "9",
         "type": "scatter",
         "x": [
          0.01495,
          12.124,
          13.75935
         ],
         "y": [
          1.3877787807814457e-17,
          3.3881317890172014e-21,
          1.2705494208814505e-21
         ]
        },
        {
         "hovertemplate": "x = %{x}<br>max(|Delta|) = %{y}<extra></extra>",
         "mode": "markers",
         "name": "10",
         "type": "scatter",
         "x": [
          0.0069,
          12.124,
          13.509555
         ],
         "y": [
          1.3877787807814457e-17,
          2.964615315390051e-21,
          9.529120656610879e-22
         ]
        },
        {
         "hovertemplate": "x = %{x}<br>max(|Delta|) = %{y}<extra></extra>",
         "mode": "markers",
         "name": "11",
         "type": "scatter",
         "x": [
          0.08395,
          12.078,
          13.75935
         ],
         "y": [
          1.3877787807814457e-17,
          2.541098841762901e-21,
          7.940933880509066e-22
         ]
        },
        {
         "hovertemplate": "x = %{x}<br>max(|Delta|) = %{y}<extra></extra>",
         "mode": "markers",
         "name": "12",
         "type": "scatter",
         "x": [
          0.00345,
          12.078,
          13.75935
         ],
         "y": [
          6.938893903907228e-18,
          2.329340604949326e-21,
          6.88214269644119e-22
         ]
        },
        {
         "hovertemplate": "x = %{x}<br>max(|Delta|) = %{y}<extra></extra>",
         "mode": "markers",
         "name": "13",
         "type": "scatter",
         "x": [
          0.00345,
          12.078,
          13.75935
         ],
         "y": [
          6.938893903907228e-18,
          2.541098841762901e-21,
          6.88214269644119e-22
         ]
        },
        {
         "hovertemplate": "x = %{x}<br>max(|Delta|) = %{y}<extra></extra>",
         "mode": "markers",
         "name": "14",
         "type": "scatter",
         "x": [
          0.09659999999999999,
          12.078,
          13.75935
         ],
         "y": [
          1.3877787807814457e-17,
          2.8587361969832636e-21,
          6.617444900424221e-22
         ]
        },
        {
         "hovertemplate": "x = %{x}<br>max(|Delta|) = %{y}<extra></extra>",
         "mode": "markers",
         "name": "15",
         "type": "scatter",
         "x": [
          0.00345,
          12.078,
          13.75935
         ],
         "y": [
          6.938893903907228e-18,
          3.494010907423989e-21,
          7.146840492458159e-22
         ]
        },
        {
         "hovertemplate": "x = %{x}<br>max(|Delta|) = %{y}<extra></extra>",
         "mode": "markers",
         "name": "16",
         "type": "scatter",
         "x": [
          0.06325,
          12.078,
          13.509555
         ],
         "y": [
          6.938893903907228e-18,
          4.552802091491864e-21,
          8.205631676526035e-22
         ]
        },
        {
         "hovertemplate": "x = %{x}<br>max(|Delta|) = %{y}<extra></extra>",
         "mode": "markers",
         "name": "17",
         "type": "scatter",
         "x": [
          0.0069,
          12.078,
          13.509555
         ],
         "y": [
          6.938893903907228e-18,
          6.193928426797071e-21,
          1.0323214044661785e-21
         ]
        },
        {
         "hovertemplate": "x = %{x}<br>max(|Delta|) = %{y}<extra></extra>",
         "mode": "markers",
         "name": "18",
         "type": "scatter",
         "x": [
          0.00805,
          12.078,
          13.509555
         ],
         "y": [
          6.938893903907228e-18,
          8.946785505373547e-21,
          1.3499587596865412e-21
         ]
        },
        {
         "hovertemplate": "x = %{x}<br>max(|Delta|) = %{y}<extra></extra>",
         "mode": "markers",
         "name": "19",
         "type": "scatter",
         "x": [
          0.0253,
          12.078,
          13.509555
         ],
         "y": [
          6.938893903907228e-18,
          1.376428539288238e-20,
          1.8661194619196304e-21
         ]
        },
        {
         "hovertemplate": "x = %{x}<br>max(|Delta|) = %{y}<extra></extra>",
         "mode": "markers",
         "name": "20",
         "type": "scatter",
         "x": [
          0.00345,
          12.078,
          13.509555
         ],
         "y": [
          3.469446951953614e-18,
          2.2287554424628778e-20,
          2.686682629572234e-21
         ]
        },
        {
         "hovertemplate": "x = %{x}<br>max(|Delta|) = %{y}<extra></extra>",
         "mode": "markers",
         "name": "21",
         "type": "scatter",
         "x": [
          0.0046,
          12.078,
          13.509555
         ],
         "y": [
          6.938893903907228e-18,
          3.779884527122315e-20,
          4.0763460586613204e-21
         ]
        },
        {
         "hovertemplate": "x = %{x}<br>max(|Delta|) = %{y}<extra></extra>",
         "mode": "markers",
         "name": "22",
         "type": "scatter",
         "x": [
          0.4577,
          12.078,
          13.509555
         ],
         "y": [
          5.204170427930421e-18,
          6.733911930671688e-20,
          6.511565782017434e-21
         ]
        },
        {
         "hovertemplate": "x = %{x}<br>max(|Delta|) = %{y}<extra></extra>",
         "mode": "markers",
         "name": "23",
         "type": "scatter",
         "x": [
          0.00115,
          12.078,
          13.509555
         ],
         "y": [
          3.469446951953614e-18,
          1.2546675531204324e-19,
          1.0852609636695723e-20
         ]
        },
        {
         "hovertemplate": "x = %{x}<br>max(|Delta|) = %{y}<extra></extra>",
         "mode": "markers",
         "name": "24",
         "type": "scatter",
         "x": [
          0.00345,
          12.078,
          13.509555
         ],
         "y": [
          3.469446951953614e-18,
          2.4415724704605207e-19,
          1.8892805190711152e-20
         ]
        },
        {
         "hovertemplate": "x = %{x}<br>max(|Delta|) = %{y}<extra></extra>",
         "mode": "markers",
         "name": "25",
         "type": "scatter",
         "x": [
          0.18055,
          12.078,
          13.509555
         ],
         "y": [
          6.938893903907228e-18,
          4.95223106568147e-19,
          3.427174713929704e-20
         ]
        },
        {
         "hovertemplate": "x = %{x}<br>max(|Delta|) = %{y}<extra></extra>",
         "mode": "markers",
         "name": "26",
         "type": "scatter",
         "x": [
          0.00115,
          12.078,
          13.509555
         ],
         "y": [
          3.469446951953614e-18,
          1.0455827640466287e-18,
          6.469214134654719e-20
         ]
        },
        {
         "hovertemplate": "x = %{x}<br>max(|Delta|) = %{y}<extra></extra>",
         "mode": "markers",
         "name": "27",
         "type": "scatter",
         "x": [
          0.00115,
          12.078,
          13.509555
         ],
         "y": [
          3.469446951953614e-18,
          2.294135798079069e-18,
          1.269027408554353e-19
         ]
        },
        {
         "hovertemplate": "x = %{x}<br>max(|Delta|) = %{y}<extra></extra>",
         "mode": "markers",
         "name": "28",
         "type": "scatter",
         "x": [
          0.0023,
          12.078,
          13.509555
         ],
         "y": [
          3.469446951953614e-18,
          5.2233610181416515e-18,
          2.5833181402276075e-19
         ]
        },
        {
         "hovertemplate": "x = %{x}<br>max(|Delta|) = %{y}<extra></extra>",
         "mode": "markers",
         "name": "29",
         "type": "scatter",
         "x": [
          0.00345,
          12.078,
          13.509555
         ],
         "y": [
          3.469446951953614e-18,
          1.232541464351374e-17,
          5.449796747744368e-19
         ]
        },
        {
         "hovertemplate": "x = %{x}<br>max(|Delta|) = %{y}<extra></extra>",
         "mode": "markers",
         "name": "30",
         "type": "scatter",
         "x": [
          0.0023,
          12.078,
          13.509555
         ],
         "y": [
          3.469446951953614e-18,
          3.010426562946708e-17,
          1.1900482036677899e-18
         ]
        },
        {
         "hovertemplate": "x = %{x}<br>max(|Delta|) = %{y}<extra></extra>",
         "mode": "markers",
         "name": "31",
         "type": "scatter",
         "x": [
          0.9499,
          12.078,
          13.509555
         ],
         "y": [
          2.42861286636753e-17,
          7.602086290893863e-17,
          2.6867355691314373e-18
         ]
        }
       ],
       "layout": {
        "autosize": true,
        "legend": {
         "title": {
          "text": "Boys' function order"
         }
        },
        "shapes": [
         {
          "line": {
           "width": 0.7
          },
          "type": "line",
          "x0": 11.5,
          "x1": 11.5,
          "xref": "x",
          "y0": 0,
          "y1": 1,
          "yref": "y domain"
         },
         {
          "line": {
           "width": 0.7
          },
          "type": "line",
          "x0": 13.5,
          "x1": 13.5,
          "xref": "x",
          "y0": 0,
          "y1": 1,
          "yref": "y domain"
         },
         {
          "line": {
           "color": "green",
           "dash": "dot",
           "width": 0.5
          },
          "type": "line",
          "x0": 0,
          "x1": 1,
          "xref": "x domain",
          "y0": 1e-18,
          "y1": 1e-18,
          "yref": "y"
         },
         {
          "line": {
           "color": "red",
           "dash": "dot",
           "width": 0.5
          },
          "type": "line",
          "x0": 0,
          "x1": 1,
          "xref": "x domain",
          "y0": 1e-16,
          "y1": 1e-16,
          "yref": "y"
         }
        ],
        "template": {
         "data": {
          "bar": [
           {
            "error_x": {
             "color": "#2a3f5f"
            },
            "error_y": {
             "color": "#2a3f5f"
            },
            "marker": {
             "line": {
              "color": "#E5ECF6",
              "width": 0.5
             },
             "pattern": {
              "fillmode": "overlay",
              "size": 10,
              "solidity": 0.2
             }
            },
            "type": "bar"
           }
          ],
          "barpolar": [
           {
            "marker": {
             "line": {
              "color": "#E5ECF6",
              "width": 0.5
             },
             "pattern": {
              "fillmode": "overlay",
              "size": 10,
              "solidity": 0.2
             }
            },
            "type": "barpolar"
           }
          ],
          "carpet": [
           {
            "aaxis": {
             "endlinecolor": "#2a3f5f",
             "gridcolor": "white",
             "linecolor": "white",
             "minorgridcolor": "white",
             "startlinecolor": "#2a3f5f"
            },
            "baxis": {
             "endlinecolor": "#2a3f5f",
             "gridcolor": "white",
             "linecolor": "white",
             "minorgridcolor": "white",
             "startlinecolor": "#2a3f5f"
            },
            "type": "carpet"
           }
          ],
          "choropleth": [
           {
            "colorbar": {
             "outlinewidth": 0,
             "ticks": ""
            },
            "type": "choropleth"
           }
          ],
          "contour": [
           {
            "colorbar": {
             "outlinewidth": 0,
             "ticks": ""
            },
            "colorscale": [
             [
              0,
              "#0d0887"
             ],
             [
              0.1111111111111111,
              "#46039f"
             ],
             [
              0.2222222222222222,
              "#7201a8"
             ],
             [
              0.3333333333333333,
              "#9c179e"
             ],
             [
              0.4444444444444444,
              "#bd3786"
             ],
             [
              0.5555555555555556,
              "#d8576b"
             ],
             [
              0.6666666666666666,
              "#ed7953"
             ],
             [
              0.7777777777777778,
              "#fb9f3a"
             ],
             [
              0.8888888888888888,
              "#fdca26"
             ],
             [
              1,
              "#f0f921"
             ]
            ],
            "type": "contour"
           }
          ],
          "contourcarpet": [
           {
            "colorbar": {
             "outlinewidth": 0,
             "ticks": ""
            },
            "type": "contourcarpet"
           }
          ],
          "heatmap": [
           {
            "colorbar": {
             "outlinewidth": 0,
             "ticks": ""
            },
            "colorscale": [
             [
              0,
              "#0d0887"
             ],
             [
              0.1111111111111111,
              "#46039f"
             ],
             [
              0.2222222222222222,
              "#7201a8"
             ],
             [
              0.3333333333333333,
              "#9c179e"
             ],
             [
              0.4444444444444444,
              "#bd3786"
             ],
             [
              0.5555555555555556,
              "#d8576b"
             ],
             [
              0.6666666666666666,
              "#ed7953"
             ],
             [
              0.7777777777777778,
              "#fb9f3a"
             ],
             [
              0.8888888888888888,
              "#fdca26"
             ],
             [
              1,
              "#f0f921"
             ]
            ],
            "type": "heatmap"
           }
          ],
          "heatmapgl": [
           {
            "colorbar": {
             "outlinewidth": 0,
             "ticks": ""
            },
            "colorscale": [
             [
              0,
              "#0d0887"
             ],
             [
              0.1111111111111111,
              "#46039f"
             ],
             [
              0.2222222222222222,
              "#7201a8"
             ],
             [
              0.3333333333333333,
              "#9c179e"
             ],
             [
              0.4444444444444444,
              "#bd3786"
             ],
             [
              0.5555555555555556,
              "#d8576b"
             ],
             [
              0.6666666666666666,
              "#ed7953"
             ],
             [
              0.7777777777777778,
              "#fb9f3a"
             ],
             [
              0.8888888888888888,
              "#fdca26"
             ],
             [
              1,
              "#f0f921"
             ]
            ],
            "type": "heatmapgl"
           }
          ],
          "histogram": [
           {
            "marker": {
             "pattern": {
              "fillmode": "overlay",
              "size": 10,
              "solidity": 0.2
             }
            },
            "type": "histogram"
           }
          ],
          "histogram2d": [
           {
            "colorbar": {
             "outlinewidth": 0,
             "ticks": ""
            },
            "colorscale": [
             [
              0,
              "#0d0887"
             ],
             [
              0.1111111111111111,
              "#46039f"
             ],
             [
              0.2222222222222222,
              "#7201a8"
             ],
             [
              0.3333333333333333,
              "#9c179e"
             ],
             [
              0.4444444444444444,
              "#bd3786"
             ],
             [
              0.5555555555555556,
              "#d8576b"
             ],
             [
              0.6666666666666666,
              "#ed7953"
             ],
             [
              0.7777777777777778,
              "#fb9f3a"
             ],
             [
              0.8888888888888888,
              "#fdca26"
             ],
             [
              1,
              "#f0f921"
             ]
            ],
            "type": "histogram2d"
           }
          ],
          "histogram2dcontour": [
           {
            "colorbar": {
             "outlinewidth": 0,
             "ticks": ""
            },
            "colorscale": [
             [
              0,
              "#0d0887"
             ],
             [
              0.1111111111111111,
              "#46039f"
             ],
             [
              0.2222222222222222,
              "#7201a8"
             ],
             [
              0.3333333333333333,
              "#9c179e"
             ],
             [
              0.4444444444444444,
              "#bd3786"
             ],
             [
              0.5555555555555556,
              "#d8576b"
             ],
             [
              0.6666666666666666,
              "#ed7953"
             ],
             [
              0.7777777777777778,
              "#fb9f3a"
             ],
             [
              0.8888888888888888,
              "#fdca26"
             ],
             [
              1,
              "#f0f921"
             ]
            ],
            "type": "histogram2dcontour"
           }
          ],
          "mesh3d": [
           {
            "colorbar": {
             "outlinewidth": 0,
             "ticks": ""
            },
            "type": "mesh3d"
           }
          ],
          "parcoords": [
           {
            "line": {
             "colorbar": {
              "outlinewidth": 0,
              "ticks": ""
             }
            },
            "type": "parcoords"
           }
          ],
          "pie": [
           {
            "automargin": true,
            "type": "pie"
           }
          ],
          "scatter": [
           {
            "fillpattern": {
             "fillmode": "overlay",
             "size": 10,
             "solidity": 0.2
            },
            "type": "scatter"
           }
          ],
          "scatter3d": [
           {
            "line": {
             "colorbar": {
              "outlinewidth": 0,
              "ticks": ""
             }
            },
            "marker": {
             "colorbar": {
              "outlinewidth": 0,
              "ticks": ""
             }
            },
            "type": "scatter3d"
           }
          ],
          "scattercarpet": [
           {
            "marker": {
             "colorbar": {
              "outlinewidth": 0,
              "ticks": ""
             }
            },
            "type": "scattercarpet"
           }
          ],
          "scattergeo": [
           {
            "marker": {
             "colorbar": {
              "outlinewidth": 0,
              "ticks": ""
             }
            },
            "type": "scattergeo"
           }
          ],
          "scattergl": [
           {
            "marker": {
             "colorbar": {
              "outlinewidth": 0,
              "ticks": ""
             }
            },
            "type": "scattergl"
           }
          ],
          "scattermapbox": [
           {
            "marker": {
             "colorbar": {
              "outlinewidth": 0,
              "ticks": ""
             }
            },
            "type": "scattermapbox"
           }
          ],
          "scatterpolar": [
           {
            "marker": {
             "colorbar": {
              "outlinewidth": 0,
              "ticks": ""
             }
            },
            "type": "scatterpolar"
           }
          ],
          "scatterpolargl": [
           {
            "marker": {
             "colorbar": {
              "outlinewidth": 0,
              "ticks": ""
             }
            },
            "type": "scatterpolargl"
           }
          ],
          "scatterternary": [
           {
            "marker": {
             "colorbar": {
              "outlinewidth": 0,
              "ticks": ""
             }
            },
            "type": "scatterternary"
           }
          ],
          "surface": [
           {
            "colorbar": {
             "outlinewidth": 0,
             "ticks": ""
            },
            "colorscale": [
             [
              0,
              "#0d0887"
             ],
             [
              0.1111111111111111,
              "#46039f"
             ],
             [
              0.2222222222222222,
              "#7201a8"
             ],
             [
              0.3333333333333333,
              "#9c179e"
             ],
             [
              0.4444444444444444,
              "#bd3786"
             ],
             [
              0.5555555555555556,
              "#d8576b"
             ],
             [
              0.6666666666666666,
              "#ed7953"
             ],
             [
              0.7777777777777778,
              "#fb9f3a"
             ],
             [
              0.8888888888888888,
              "#fdca26"
             ],
             [
              1,
              "#f0f921"
             ]
            ],
            "type": "surface"
           }
          ],
          "table": [
           {
            "cells": {
             "fill": {
              "color": "#EBF0F8"
             },
             "line": {
              "color": "white"
             }
            },
            "header": {
             "fill": {
              "color": "#C8D4E3"
             },
             "line": {
              "color": "white"
             }
            },
            "type": "table"
           }
          ]
         },
         "layout": {
          "annotationdefaults": {
           "arrowcolor": "#2a3f5f",
           "arrowhead": 0,
           "arrowwidth": 1
          },
          "autotypenumbers": "strict",
          "coloraxis": {
           "colorbar": {
            "outlinewidth": 0,
            "ticks": ""
           }
          },
          "colorscale": {
           "diverging": [
            [
             0,
             "#8e0152"
            ],
            [
             0.1,
             "#c51b7d"
            ],
            [
             0.2,
             "#de77ae"
            ],
            [
             0.3,
             "#f1b6da"
            ],
            [
             0.4,
             "#fde0ef"
            ],
            [
             0.5,
             "#f7f7f7"
            ],
            [
             0.6,
             "#e6f5d0"
            ],
            [
             0.7,
             "#b8e186"
            ],
            [
             0.8,
             "#7fbc41"
            ],
            [
             0.9,
             "#4d9221"
            ],
            [
             1,
             "#276419"
            ]
           ],
           "sequential": [
            [
             0,
             "#0d0887"
            ],
            [
             0.1111111111111111,
             "#46039f"
            ],
            [
             0.2222222222222222,
             "#7201a8"
            ],
            [
             0.3333333333333333,
             "#9c179e"
            ],
            [
             0.4444444444444444,
             "#bd3786"
            ],
            [
             0.5555555555555556,
             "#d8576b"
            ],
            [
             0.6666666666666666,
             "#ed7953"
            ],
            [
             0.7777777777777778,
             "#fb9f3a"
            ],
            [
             0.8888888888888888,
             "#fdca26"
            ],
            [
             1,
             "#f0f921"
            ]
           ],
           "sequentialminus": [
            [
             0,
             "#0d0887"
            ],
            [
             0.1111111111111111,
             "#46039f"
            ],
            [
             0.2222222222222222,
             "#7201a8"
            ],
            [
             0.3333333333333333,
             "#9c179e"
            ],
            [
             0.4444444444444444,
             "#bd3786"
            ],
            [
             0.5555555555555556,
             "#d8576b"
            ],
            [
             0.6666666666666666,
             "#ed7953"
            ],
            [
             0.7777777777777778,
             "#fb9f3a"
            ],
            [
             0.8888888888888888,
             "#fdca26"
            ],
            [
             1,
             "#f0f921"
            ]
           ]
          },
          "colorway": [
           "#636efa",
           "#EF553B",
           "#00cc96",
           "#ab63fa",
           "#FFA15A",
           "#19d3f3",
           "#FF6692",
           "#B6E880",
           "#FF97FF",
           "#FECB52"
          ],
          "font": {
           "color": "#2a3f5f"
          },
          "geo": {
           "bgcolor": "white",
           "lakecolor": "white",
           "landcolor": "#E5ECF6",
           "showlakes": true,
           "showland": true,
           "subunitcolor": "white"
          },
          "hoverlabel": {
           "align": "left"
          },
          "hovermode": "closest",
          "mapbox": {
           "style": "light"
          },
          "paper_bgcolor": "white",
          "plot_bgcolor": "#E5ECF6",
          "polar": {
           "angularaxis": {
            "gridcolor": "white",
            "linecolor": "white",
            "ticks": ""
           },
           "bgcolor": "#E5ECF6",
           "radialaxis": {
            "gridcolor": "white",
            "linecolor": "white",
            "ticks": ""
           }
          },
          "scene": {
           "xaxis": {
            "backgroundcolor": "#E5ECF6",
            "gridcolor": "white",
            "gridwidth": 2,
            "linecolor": "white",
            "showbackground": true,
            "ticks": "",
            "zerolinecolor": "white"
           },
           "yaxis": {
            "backgroundcolor": "#E5ECF6",
            "gridcolor": "white",
            "gridwidth": 2,
            "linecolor": "white",
            "showbackground": true,
            "ticks": "",
            "zerolinecolor": "white"
           },
           "zaxis": {
            "backgroundcolor": "#E5ECF6",
            "gridcolor": "white",
            "gridwidth": 2,
            "linecolor": "white",
            "showbackground": true,
            "ticks": "",
            "zerolinecolor": "white"
           }
          },
          "shapedefaults": {
           "line": {
            "color": "#2a3f5f"
           }
          },
          "ternary": {
           "aaxis": {
            "gridcolor": "white",
            "linecolor": "white",
            "ticks": ""
           },
           "baxis": {
            "gridcolor": "white",
            "linecolor": "white",
            "ticks": ""
           },
           "bgcolor": "#E5ECF6",
           "caxis": {
            "gridcolor": "white",
            "linecolor": "white",
            "ticks": ""
           }
          },
          "title": {
           "x": 0.05
          },
          "xaxis": {
           "automargin": true,
           "gridcolor": "white",
           "linecolor": "white",
           "ticks": "",
           "title": {
            "standoff": 15
           },
           "zerolinecolor": "white",
           "zerolinewidth": 2
          },
          "yaxis": {
           "automargin": true,
           "gridcolor": "white",
           "linecolor": "white",
           "ticks": "",
           "title": {
            "standoff": 15
           },
           "zerolinecolor": "white",
           "zerolinewidth": 2
          }
         }
        },
        "xaxis": {
         "autorange": true,
         "range": [
          -0.8033892511569206,
          14.56388925115692
         ],
         "title": {
          "text": "$x$"
         },
         "type": "linear"
        },
        "yaxis": {
         "range": [
          -22,
          -14
         ],
         "title": {
          "text": "$\\max|\\Delta|$"
         },
         "type": "log"
        }
       }
      },
      "image/png": "[encoded data removed]",
      "text/html": [
       "<div>                            <div id=\"10c2dece-4f24-4160-8d73-348508d4178b\" class=\"plotly-graph-div\" style=\"height:525px; width:100%;\"></div>            <script type=\"text/javascript\">                require([\"plotly\"], function(Plotly) {                    window.PLOTLYENV=window.PLOTLYENV || {};                                    if (document.getElementById(\"10c2dece-4f24-4160-8d73-348508d4178b\")) {                    Plotly.newPlot(                        \"10c2dece-4f24-4160-8d73-348508d4178b\",                        [{\"hovertemplate\":\"x = %{x}<br>max(|Delta|) = %{y}<extra></extra>\",\"mode\":\"markers\",\"name\":\"0\",\"x\":[0.2438,11.708,13.51092],\"y\":[3.3306690738754696e-16,1.1102230246251565e-16,5.551115123125783e-17],\"type\":\"scatter\"},{\"hovertemplate\":\"x = %{x}<br>max(|Delta|) = %{y}<extra></extra>\",\"mode\":\"markers\",\"name\":\"1\",\"x\":[0.67735,11.71,13.501365],\"y\":[8.326672684688674e-17,6.938893903907228e-18,3.469446951953614e-18],\"type\":\"scatter\"},{\"hovertemplate\":\"x = %{x}<br>max(|Delta|) = %{y}<extra></extra>\",\"mode\":\"markers\",\"name\":\"2\",\"x\":[0.00115,11.596,13.501365],\"y\":[5.551115123125783e-17,8.673617379884035e-19,4.336808689942018e-19],\"type\":\"scatter\"},{\"hovertemplate\":\"x = %{x}<br>max(|Delta|) = %{y}<extra></extra>\",\"mode\":\"markers\",\"name\":\"3\",\"x\":[0.00115,11.55,13.6365],\"y\":[2.7755575615628914e-17,1.6263032587282567e-19,1.0842021724855044e-19],\"type\":\"scatter\"},{\"hovertemplate\":\"x = %{x}<br>max(|Delta|) = %{y}<extra></extra>\",\"mode\":\"markers\",\"name\":\"4\",\"x\":[0.05405,11.582,13.65561],\"y\":[2.7755575615628914e-17,5.421010862427522e-20,3.3881317890172014e-20],\"type\":\"scatter\"},{\"hovertemplate\":\"x = %{x}<br>max(|Delta|) = %{y}<extra></extra>\",\"mode\":\"markers\",\"name\":\"5\",\"x\":[0.019549999999999998,12.124,13.65561],\"y\":[2.7755575615628914e-17,2.371692252312041e-20,1.1858461261560205e-20],\"type\":\"scatter\"},{\"hovertemplate\":\"x = %{x}<br>max(|Delta|) = %{y}<extra></extra>\",\"mode\":\"markers\",\"name\":\"6\",\"x\":[0.00115,12.174,13.65561],\"y\":[1.3877787807814457e-17,1.1858461261560205e-20,5.929230630780102e-21],\"type\":\"scatter\"},{\"hovertemplate\":\"x = %{x}<br>max(|Delta|) = %{y}<extra></extra>\",\"mode\":\"markers\",\"name\":\"7\",\"x\":[0.0023,12.124,13.65561],\"y\":[1.3877787807814457e-17,6.776263578034403e-21,2.964615315390051e-21],\"type\":\"scatter\"},{\"hovertemplate\":\"x = %{x}<br>max(|Delta|) = %{y}<extra></extra>\",\"mode\":\"markers\",\"name\":\"8\",\"x\":[0.0253,12.124,13.65561],\"y\":[1.3877787807814457e-17,5.082197683525802e-21,1.9058241313221758e-21],\"type\":\"scatter\"},{\"hovertemplate\":\"x = %{x}<br>max(|Delta|) = %{y}<extra></extra>\",\"mode\":\"markers\",\"name\":\"9\",\"x\":[0.01495,12.124,13.75935],\"y\":[1.3877787807814457e-17,3.3881317890172014e-21,1.2705494208814505e-21],\"type\":\"scatter\"},{\"hovertemplate\":\"x = %{x}<br>max(|Delta|) = %{y}<extra></extra>\",\"mode\":\"markers\",\"name\":\"10\",\"x\":[0.0069,12.124,13.509555],\"y\":[1.3877787807814457e-17,2.964615315390051e-21,9.529120656610879e-22],\"type\":\"scatter\"},{\"hovertemplate\":\"x = %{x}<br>max(|Delta|) = %{y}<extra></extra>\",\"mode\":\"markers\",\"name\":\"11\",\"x\":[0.08395,12.078,13.75935],\"y\":[1.3877787807814457e-17,2.541098841762901e-21,7.940933880509066e-22],\"type\":\"scatter\"},{\"hovertemplate\":\"x = %{x}<br>max(|Delta|) = %{y}<extra></extra>\",\"mode\":\"markers\",\"name\":\"12\",\"x\":[0.00345,12.078,13.75935],\"y\":[6.938893903907228e-18,2.329340604949326e-21,6.88214269644119e-22],\"type\":\"scatter\"},{\"hovertemplate\":\"x = %{x}<br>max(|Delta|) = %{y}<extra></extra>\",\"mode\":\"markers\",\"name\":\"13\",\"x\":[0.00345,12.078,13.75935],\"y\":[6.938893903907228e-18,2.541098841762901e-21,6.88214269644119e-22],\"type\":\"scatter\"},{\"hovertemplate\":\"x = %{x}<br>max(|Delta|) = %{y}<extra></extra>\",\"mode\":\"markers\",\"name\":\"14\",\"x\":[0.09659999999999999,12.078,13.75935],\"y\":[1.3877787807814457e-17,2.8587361969832636e-21,6.617444900424221e-22],\"type\":\"scatter\"},{\"hovertemplate\":\"x = %{x}<br>max(|Delta|) = %{y}<extra></extra>\",\"mode\":\"markers\",\"name\":\"15\",\"x\":[0.00345,12.078,13.75935],\"y\":[6.938893903907228e-18,3.494010907423989e-21,7.146840492458159e-22],\"type\":\"scatter\"},{\"hovertemplate\":\"x = %{x}<br>max(|Delta|) = %{y}<extra></extra>\",\"mode\":\"markers\",\"name\":\"16\",\"x\":[0.06325,12.078,13.509555],\"y\":[6.938893903907228e-18,4.552802091491864e-21,8.205631676526035e-22],\"type\":\"scatter\"},{\"hovertemplate\":\"x = %{x}<br>max(|Delta|) = %{y}<extra></extra>\",\"mode\":\"markers\",\"name\":\"17\",\"x\":[0.0069,12.078,13.509555],\"y\":[6.938893903907228e-18,6.193928426797071e-21,1.0323214044661785e-21],\"type\":\"scatter\"},{\"hovertemplate\":\"x = %{x}<br>max(|Delta|) = %{y}<extra></extra>\",\"mode\":\"markers\",\"name\":\"18\",\"x\":[0.00805,12.078,13.509555],\"y\":[6.938893903907228e-18,8.946785505373547e-21,1.3499587596865412e-21],\"type\":\"scatter\"},{\"hovertemplate\":\"x = %{x}<br>max(|Delta|) = %{y}<extra></extra>\",\"mode\":\"markers\",\"name\":\"19\",\"x\":[0.0253,12.078,13.509555],\"y\":[6.938893903907228e-18,1.376428539288238e-20,1.8661194619196304e-21],\"type\":\"scatter\"},{\"hovertemplate\":\"x = %{x}<br>max(|Delta|) = %{y}<extra></extra>\",\"mode\":\"markers\",\"name\":\"20\",\"x\":[0.00345,12.078,13.509555],\"y\":[3.469446951953614e-18,2.2287554424628778e-20,2.686682629572234e-21],\"type\":\"scatter\"},{\"hovertemplate\":\"x = %{x}<br>max(|Delta|) = %{y}<extra></extra>\",\"mode\":\"markers\",\"name\":\"21\",\"x\":[0.0046,12.078,13.509555],\"y\":[6.938893903907228e-18,3.779884527122315e-20,4.0763460586613204e-21],\"type\":\"scatter\"},{\"hovertemplate\":\"x = %{x}<br>max(|Delta|) = %{y}<extra></extra>\",\"mode\":\"markers\",\"name\":\"22\",\"x\":[0.4577,12.078,13.509555],\"y\":[5.204170427930421e-18,6.733911930671688e-20,6.511565782017434e-21],\"type\":\"scatter\"},{\"hovertemplate\":\"x = %{x}<br>max(|Delta|) = %{y}<extra></extra>\",\"mode\":\"markers\",\"name\":\"23\",\"x\":[0.00115,12.078,13.509555],\"y\":[3.469446951953614e-18,1.2546675531204324e-19,1.0852609636695723e-20],\"type\":\"scatter\"},{\"hovertemplate\":\"x = %{x}<br>max(|Delta|) = %{y}<extra></extra>\",\"mode\":\"markers\",\"name\":\"24\",\"x\":[0.00345,12.078,13.509555],\"y\":[3.469446951953614e-18,2.4415724704605207e-19,1.8892805190711152e-20],\"type\":\"scatter\"},{\"hovertemplate\":\"x = %{x}<br>max(|Delta|) = %{y}<extra></extra>\",\"mode\":\"markers\",\"name\":\"25\",\"x\":[0.18055,12.078,13.509555],\"y\":[6.938893903907228e-18,4.95223106568147e-19,3.427174713929704e-20],\"type\":\"scatter\"},{\"hovertemplate\":\"x = %{x}<br>max(|Delta|) = %{y}<extra></extra>\",\"mode\":\"markers\",\"name\":\"26\",\"x\":[0.00115,12.078,13.509555],\"y\":[3.469446951953614e-18,1.0455827640466287e-18,6.469214134654719e-20],\"type\":\"scatter\"},{\"hovertemplate\":\"x = %{x}<br>max(|Delta|) = %{y}<extra></extra>\",\"mode\":\"markers\",\"name\":\"27\",\"x\":[0.00115,12.078,13.509555],\"y\":[3.469446951953614e-18,2.294135798079069e-18,1.269027408554353e-19],\"type\":\"scatter\"},{\"hovertemplate\":\"x = %{x}<br>max(|Delta|) = %{y}<extra></extra>\",\"mode\":\"markers\",\"name\":\"28\",\"x\":[0.0023,12.078,13.509555],\"y\":[3.469446951953614e-18,5.2233610181416515e-18,2.5833181402276075e-19],\"type\":\"scatter\"},{\"hovertemplate\":\"x = %{x}<br>max(|Delta|) = %{y}<extra></extra>\",\"mode\":\"markers\",\"name\":\"29\",\"x\":[0.00345,12.078,13.509555],\"y\":[3.469446951953614e-18,1.232541464351374e-17,5.449796747744368e-19],\"type\":\"scatter\"},{\"hovertemplate\":\"x = %{x}<br>max(|Delta|) = %{y}<extra></extra>\",\"mode\":\"markers\",\"name\":\"30\",\"x\":[0.0023,12.078,13.509555],\"y\":[3.469446951953614e-18,3.010426562946708e-17,1.1900482036677899e-18],\"type\":\"scatter\"},{\"hovertemplate\":\"x = %{x}<br>max(|Delta|) = %{y}<extra></extra>\",\"mode\":\"markers\",\"name\":\"31\",\"x\":[0.9499,12.078,13.509555],\"y\":[2.42861286636753e-17,7.602086290893863e-17,2.6867355691314373e-18],\"type\":\"scatter\"}],                        {\"template\":{\"data\":{\"histogram2dcontour\":[{\"type\":\"histogram2dcontour\",\"colorbar\":{\"outlinewidth\":0,\"ticks\":\"\"},\"colorscale\":[[0.0,\"#0d0887\"],[0.1111111111111111,\"#46039f\"],[0.2222222222222222,\"#7201a8\"],[0.3333333333333333,\"#9c179e\"],[0.4444444444444444,\"#bd3786\"],[0.5555555555555556,\"#d8576b\"],[0.6666666666666666,\"#ed7953\"],[0.7777777777777778,\"#fb9f3a\"],[0.8888888888888888,\"#fdca26\"],[1.0,\"#f0f921\"]]}],\"choropleth\":[{\"type\":\"choropleth\",\"colorbar\":{\"outlinewidth\":0,\"ticks\":\"\"}}],\"histogram2d\":[{\"type\":\"histogram2d\",\"colorbar\":{\"outlinewidth\":0,\"ticks\":\"\"},\"colorscale\":[[0.0,\"#0d0887\"],[0.1111111111111111,\"#46039f\"],[0.2222222222222222,\"#7201a8\"],[0.3333333333333333,\"#9c179e\"],[0.4444444444444444,\"#bd3786\"],[0.5555555555555556,\"#d8576b\"],[0.6666666666666666,\"#ed7953\"],[0.7777777777777778,\"#fb9f3a\"],[0.8888888888888888,\"#fdca26\"],[1.0,\"#f0f921\"]]}],\"heatmap\":[{\"type\":\"heatmap\",\"colorbar\":{\"outlinewidth\":0,\"ticks\":\"\"},\"colorscale\":[[0.0,\"#0d0887\"],[0.1111111111111111,\"#46039f\"],[0.2222222222222222,\"#7201a8\"],[0.3333333333333333,\"#9c179e\"],[0.4444444444444444,\"#bd3786\"],[0.5555555555555556,\"#d8576b\"],[0.6666666666666666,\"#ed7953\"],[0.7777777777777778,\"#fb9f3a\"],[0.8888888888888888,\"#fdca26\"],[1.0,\"#f0f921\"]]}],\"heatmapgl\":[{\"type\":\"heatmapgl\",\"colorbar\":{\"outlinewidth\":0,\"ticks\":\"\"},\"colorscale\":[[0.0,\"#0d0887\"],[0.1111111111111111,\"#46039f\"],[0.2222222222222222,\"#7201a8\"],[0.3333333333333333,\"#9c179e\"],[0.4444444444444444,\"#bd3786\"],[0.5555555555555556,\"#d8576b\"],[0.6666666666666666,\"#ed7953\"],[0.7777777777777778,\"#fb9f3a\"],[0.8888888888888888,\"#fdca26\"],[1.0,\"#f0f921\"]]}],\"contourcarpet\":[{\"type\":\"contourcarpet\",\"colorbar\":{\"outlinewidth\":0,\"ticks\":\"\"}}],\"contour\":[{\"type\":\"contour\",\"colorbar\":{\"outlinewidth\":0,\"ticks\":\"\"},\"colorscale\":[[0.0,\"#0d0887\"],[0.1111111111111111,\"#46039f\"],[0.2222222222222222,\"#7201a8\"],[0.3333333333333333,\"#9c179e\"],[0.4444444444444444,\"#bd3786\"],[0.5555555555555556,\"#d8576b\"],[0.6666666666666666,\"#ed7953\"],[0.7777777777777778,\"#fb9f3a\"],[0.8888888888888888,\"#fdca26\"],[1.0,\"#f0f921\"]]}],\"surface\":[{\"type\":\"surface\",\"colorbar\":{\"outlinewidth\":0,\"ticks\":\"\"},\"colorscale\":[[0.0,\"#0d0887\"],[0.1111111111111111,\"#46039f\"],[0.2222222222222222,\"#7201a8\"],[0.3333333333333333,\"#9c179e\"],[0.4444444444444444,\"#bd3786\"],[0.5555555555555556,\"#d8576b\"],[0.6666666666666666,\"#ed7953\"],[0.7777777777777778,\"#fb9f3a\"],[0.8888888888888888,\"#fdca26\"],[1.0,\"#f0f921\"]]}],\"mesh3d\":[{\"type\":\"mesh3d\",\"colorbar\":{\"outlinewidth\":0,\"ticks\":\"\"}}],\"scatter\":[{\"fillpattern\":{\"fillmode\":\"overlay\",\"size\":10,\"solidity\":0.2},\"type\":\"scatter\"}],\"parcoords\":[{\"type\":\"parcoords\",\"line\":{\"colorbar\":{\"outlinewidth\":0,\"ticks\":\"\"}}}],\"scatterpolargl\":[{\"type\":\"scatterpolargl\",\"marker\":{\"colorbar\":{\"outlinewidth\":0,\"ticks\":\"\"}}}],\"bar\":[{\"error_x\":{\"color\":\"#2a3f5f\"},\"error_y\":{\"color\":\"#2a3f5f\"},\"marker\":{\"line\":{\"color\":\"#E5ECF6\",\"width\":0.5},\"pattern\":{\"fillmode\":\"overlay\",\"size\":10,\"solidity\":0.2}},\"type\":\"bar\"}],\"scattergeo\":[{\"type\":\"scattergeo\",\"marker\":{\"colorbar\":{\"outlinewidth\":0,\"ticks\":\"\"}}}],\"scatterpolar\":[{\"type\":\"scatterpolar\",\"marker\":{\"colorbar\":{\"outlinewidth\":0,\"ticks\":\"\"}}}],\"histogram\":[{\"marker\":{\"pattern\":{\"fillmode\":\"overlay\",\"size\":10,\"solidity\":0.2}},\"type\":\"histogram\"}],\"scattergl\":[{\"type\":\"scattergl\",\"marker\":{\"colorbar\":{\"outlinewidth\":0,\"ticks\":\"\"}}}],\"scatter3d\":[{\"type\":\"scatter3d\",\"line\":{\"colorbar\":{\"outlinewidth\":0,\"ticks\":\"\"}},\"marker\":{\"colorbar\":{\"outlinewidth\":0,\"ticks\":\"\"}}}],\"scattermapbox\":[{\"type\":\"scattermapbox\",\"marker\":{\"colorbar\":{\"outlinewidth\":0,\"ticks\":\"\"}}}],\"scatterternary\":[{\"type\":\"scatterternary\",\"marker\":{\"colorbar\":{\"outlinewidth\":0,\"ticks\":\"\"}}}],\"scattercarpet\":[{\"type\":\"scattercarpet\",\"marker\":{\"colorbar\":{\"outlinewidth\":0,\"ticks\":\"\"}}}],\"carpet\":[{\"aaxis\":{\"endlinecolor\":\"#2a3f5f\",\"gridcolor\":\"white\",\"linecolor\":\"white\",\"minorgridcolor\":\"white\",\"startlinecolor\":\"#2a3f5f\"},\"baxis\":{\"endlinecolor\":\"#2a3f5f\",\"gridcolor\":\"white\",\"linecolor\":\"white\",\"minorgridcolor\":\"white\",\"startlinecolor\":\"#2a3f5f\"},\"type\":\"carpet\"}],\"table\":[{\"cells\":{\"fill\":{\"color\":\"#EBF0F8\"},\"line\":{\"color\":\"white\"}},\"header\":{\"fill\":{\"color\":\"#C8D4E3\"},\"line\":{\"color\":\"white\"}},\"type\":\"table\"}],\"barpolar\":[{\"marker\":{\"line\":{\"color\":\"#E5ECF6\",\"width\":0.5},\"pattern\":{\"fillmode\":\"overlay\",\"size\":10,\"solidity\":0.2}},\"type\":\"barpolar\"}],\"pie\":[{\"automargin\":true,\"type\":\"pie\"}]},\"layout\":{\"autotypenumbers\":\"strict\",\"colorway\":[\"#636efa\",\"#EF553B\",\"#00cc96\",\"#ab63fa\",\"#FFA15A\",\"#19d3f3\",\"#FF6692\",\"#B6E880\",\"#FF97FF\",\"#FECB52\"],\"font\":{\"color\":\"#2a3f5f\"},\"hovermode\":\"closest\",\"hoverlabel\":{\"align\":\"left\"},\"paper_bgcolor\":\"white\",\"plot_bgcolor\":\"#E5ECF6\",\"polar\":{\"bgcolor\":\"#E5ECF6\",\"angularaxis\":{\"gridcolor\":\"white\",\"linecolor\":\"white\",\"ticks\":\"\"},\"radialaxis\":{\"gridcolor\":\"white\",\"linecolor\":\"white\",\"ticks\":\"\"}},\"ternary\":{\"bgcolor\":\"#E5ECF6\",\"aaxis\":{\"gridcolor\":\"white\",\"linecolor\":\"white\",\"ticks\":\"\"},\"baxis\":{\"gridcolor\":\"white\",\"linecolor\":\"white\",\"ticks\":\"\"},\"caxis\":{\"gridcolor\":\"white\",\"linecolor\":\"white\",\"ticks\":\"\"}},\"coloraxis\":{\"colorbar\":{\"outlinewidth\":0,\"ticks\":\"\"}},\"colorscale\":{\"sequential\":[[0.0,\"#0d0887\"],[0.1111111111111111,\"#46039f\"],[0.2222222222222222,\"#7201a8\"],[0.3333333333333333,\"#9c179e\"],[0.4444444444444444,\"#bd3786\"],[0.5555555555555556,\"#d8576b\"],[0.6666666666666666,\"#ed7953\"],[0.7777777777777778,\"#fb9f3a\"],[0.8888888888888888,\"#fdca26\"],[1.0,\"#f0f921\"]],\"sequentialminus\":[[0.0,\"#0d0887\"],[0.1111111111111111,\"#46039f\"],[0.2222222222222222,\"#7201a8\"],[0.3333333333333333,\"#9c179e\"],[0.4444444444444444,\"#bd3786\"],[0.5555555555555556,\"#d8576b\"],[0.6666666666666666,\"#ed7953\"],[0.7777777777777778,\"#fb9f3a\"],[0.8888888888888888,\"#fdca26\"],[1.0,\"#f0f921\"]],\"diverging\":[[0,\"#8e0152\"],[0.1,\"#c51b7d\"],[0.2,\"#de77ae\"],[0.3,\"#f1b6da\"],[0.4,\"#fde0ef\"],[0.5,\"#f7f7f7\"],[0.6,\"#e6f5d0\"],[0.7,\"#b8e186\"],[0.8,\"#7fbc41\"],[0.9,\"#4d9221\"],[1,\"#276419\"]]},\"xaxis\":{\"gridcolor\":\"white\",\"linecolor\":\"white\",\"ticks\":\"\",\"title\":{\"standoff\":15},\"zerolinecolor\":\"white\",\"automargin\":true,\"zerolinewidth\":2},\"yaxis\":{\"gridcolor\":\"white\",\"linecolor\":\"white\",\"ticks\":\"\",\"title\":{\"standoff\":15},\"zerolinecolor\":\"white\",\"automargin\":true,\"zerolinewidth\":2},\"scene\":{\"xaxis\":{\"backgroundcolor\":\"#E5ECF6\",\"gridcolor\":\"white\",\"linecolor\":\"white\",\"showbackground\":true,\"ticks\":\"\",\"zerolinecolor\":\"white\",\"gridwidth\":2},\"yaxis\":{\"backgroundcolor\":\"#E5ECF6\",\"gridcolor\":\"white\",\"linecolor\":\"white\",\"showbackground\":true,\"ticks\":\"\",\"zerolinecolor\":\"white\",\"gridwidth\":2},\"zaxis\":{\"backgroundcolor\":\"#E5ECF6\",\"gridcolor\":\"white\",\"linecolor\":\"white\",\"showbackground\":true,\"ticks\":\"\",\"zerolinecolor\":\"white\",\"gridwidth\":2}},\"shapedefaults\":{\"line\":{\"color\":\"#2a3f5f\"}},\"annotationdefaults\":{\"arrowcolor\":\"#2a3f5f\",\"arrowhead\":0,\"arrowwidth\":1},\"geo\":{\"bgcolor\":\"white\",\"landcolor\":\"#E5ECF6\",\"subunitcolor\":\"white\",\"showland\":true,\"showlakes\":true,\"lakecolor\":\"white\"},\"title\":{\"x\":0.05},\"mapbox\":{\"style\":\"light\"}}},\"legend\":{\"title\":{\"text\":\"Boys' function order\"}},\"xaxis\":{\"title\":{\"text\":\"$x$\"}},\"yaxis\":{\"title\":{\"text\":\"$\\\\max|\\\\Delta|$\"},\"type\":\"log\",\"range\":[-22,-14]},\"shapes\":[{\"line\":{\"width\":0.7},\"type\":\"line\",\"x0\":11.5,\"x1\":11.5,\"xref\":\"x\",\"y0\":0,\"y1\":1,\"yref\":\"y domain\"},{\"line\":{\"width\":0.7},\"type\":\"line\",\"x0\":13.5,\"x1\":13.5,\"xref\":\"x\",\"y0\":0,\"y1\":1,\"yref\":\"y domain\"},{\"line\":{\"color\":\"green\",\"dash\":\"dot\",\"width\":0.5},\"type\":\"line\",\"x0\":0,\"x1\":1,\"xref\":\"x domain\",\"y0\":1e-18,\"y1\":1e-18,\"yref\":\"y\"},{\"line\":{\"color\":\"red\",\"dash\":\"dot\",\"width\":0.5},\"type\":\"line\",\"x0\":0,\"x1\":1,\"xref\":\"x domain\",\"y0\":1e-16,\"y1\":1e-16,\"yref\":\"y\"}]},                        {\"responsive\": true}                    ).then(function(){\n",
       "                            \n",
       "var gd = document.getElementById('10c2dece-4f24-4160-8d73-348508d4178b');\n",
       "var x = new MutationObserver(function (mutations, observer) {{\n",
       "        var display = window.getComputedStyle(gd).display;\n",
       "        if (!display || display === 'none') {{\n",
       "            console.log([gd, 'removed!']);\n",
       "            Plotly.purge(gd);\n",
       "            observer.disconnect();\n",
       "        }}\n",
       "}});\n",
       "\n",
       "// Listen for the removal of the full notebook cells\n",
       "var notebookContainer = gd.closest('#notebook-container');\n",
       "if (notebookContainer) {{\n",
       "    x.observe(notebookContainer, {childList: true});\n",
       "}}\n",
       "\n",
       "// Listen for the clearing of the current output cell\n",
       "var outputEl = gd.closest('.output');\n",
       "if (outputEl) {{\n",
       "    x.observe(outputEl, {childList: true});\n",
       "}}\n",
       "\n",
       "                        })                };                });            </script>        </div>"
      ]
     },
     "metadata": {},
     "output_type": "display_data"
    }
   ],
   "source": [
    "fig.update_layout(legend_title_text=\"Boys' function order\")\n",
    "\n",
    "fig.update_xaxes(title_text=r\"$x$\")\n",
    "fig.update_yaxes(\n",
    "    title_text=r\"$\\max|\\Delta|$\", \n",
    "    type=\"log\", \n",
    "    range=[-22, -14]\n",
    ")\n",
    "# add vertical lines to delimit regions\n",
    "fig.add_vline(x=11.5, line_width=0.7)\n",
    "fig.add_vline(x=13.5, line_width=0.7)\n",
    "# add horizontal lines to delimit precision\n",
    "fig.add_hline(y=1e-18, \n",
    "              line_dash=\"dot\",\n",
    "              line_width=0.5,\n",
    "              line_color=\"green\")\n",
    "fig.add_hline(y=1e-16, \n",
    "              line_dash=\"dot\",\n",
    "              line_width=0.5,\n",
    "              line_color=\"red\")\n",
    "fig.show()"
   ]
  },
  {
   "cell_type": "code",
   "execution_count": null,
   "id": "89c51aeb-918f-4766-89ba-b7ab30603e61",
   "metadata": {},
   "outputs": [],
   "source": []
  },
  {
   "cell_type": "code",
   "execution_count": null,
   "id": "121470b7-ff36-4ed6-b111-6305483a8200",
   "metadata": {},
   "outputs": [],
   "source": []
  }
 ],
 "metadata": {
  "kernelspec": {
   "display_name": "Python 3 (ipykernel)",
   "language": "python",
   "name": "python3"
  },
  "language_info": {
   "codemirror_mode": {
    "name": "ipython",
    "version": 3
   },
   "file_extension": ".py",
   "mimetype": "text/x-python",
   "name": "python",
   "nbconvert_exporter": "python",
   "pygments_lexer": "ipython3",
   "version": "3.11.1"
  }
 },
 "nbformat": 4,
 "nbformat_minor": 5
}
